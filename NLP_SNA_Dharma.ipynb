{
 "cells": [
  {
   "cell_type": "markdown",
   "metadata": {},
   "source": [
    "# Sentiment Analysis on newly released movie \n",
    "By I Nengah Dharma Pradnyandita "
   ]
  },
  {
   "cell_type": "markdown",
   "metadata": {},
   "source": [
    "## Import Library "
   ]
  },
  {
   "cell_type": "code",
   "execution_count": 49,
   "metadata": {},
   "outputs": [],
   "source": [
    "import pandas as pd\n",
    "import numpy as np\n",
    "import re\n",
    "import matplotlib.pyplot as plt\n",
    "from sklearn.feature_extraction.text import TfidfVectorizer\n",
    "from sklearn.model_selection import train_test_split\n",
    "from sklearn.metrics import accuracy_score\n",
    "import uuid\n",
    "# Natural Language ToolKit Library\n",
    "import nltk\n",
    "from nltk.corpus import stopwords\n",
    "from nltk.stem.porter import PorterStemmer\n",
    "# Model classification \n",
    "from sklearn.naive_bayes import MultinomialNB\n",
    "# Measure the prediction speed \n",
    "import time\n",
    "# Saving the model\n",
    "import pickle\n"
   ]
  },
  {
   "cell_type": "code",
   "execution_count": 2,
   "metadata": {},
   "outputs": [
    {
     "name": "stderr",
     "output_type": "stream",
     "text": [
      "[nltk_data] Downloading package stopwords to\n",
      "[nltk_data]     C:\\Users\\nenga\\AppData\\Roaming\\nltk_data...\n",
      "[nltk_data]   Unzipping corpora\\stopwords.zip.\n"
     ]
    },
    {
     "data": {
      "text/plain": [
       "True"
      ]
     },
     "execution_count": 2,
     "metadata": {},
     "output_type": "execute_result"
    }
   ],
   "source": [
    "nltk.download('stopwords')"
   ]
  },
  {
   "cell_type": "markdown",
   "metadata": {},
   "source": [
    "## Import Dataset "
   ]
  },
  {
   "cell_type": "code",
   "execution_count": 3,
   "metadata": {},
   "outputs": [],
   "source": [
    "df = pd.read_csv('labeled_Movie_review_sentiment_dune.csv')"
   ]
  },
  {
   "cell_type": "code",
   "execution_count": 4,
   "metadata": {},
   "outputs": [
    {
     "data": {
      "text/plain": [
       "review-data href               164\n",
       "audience-reviews__name          20\n",
       "audience-reviews__name href    170\n",
       "audience-reviews__duration       0\n",
       "audience-reviews__review         0\n",
       "Sentiment                        0\n",
       "dtype: int64"
      ]
     },
     "execution_count": 4,
     "metadata": {},
     "output_type": "execute_result"
    }
   ],
   "source": [
    "#Checking the null data \n",
    "df.isnull().sum()"
   ]
  },
  {
   "cell_type": "code",
   "execution_count": 5,
   "metadata": {},
   "outputs": [
    {
     "data": {
      "text/plain": [
       "1    407\n",
       "0     79\n",
       "2     24\n",
       "Name: Sentiment, dtype: int64"
      ]
     },
     "execution_count": 5,
     "metadata": {},
     "output_type": "execute_result"
    }
   ],
   "source": [
    "# 1 means Positive review \n",
    "# 2 means Negative review\n",
    "# 3 means Neutral review\n",
    "df['Sentiment'].value_counts()"
   ]
  },
  {
   "cell_type": "markdown",
   "metadata": {},
   "source": [
    "## Stemming the data"
   ]
  },
  {
   "cell_type": "code",
   "execution_count": 6,
   "metadata": {},
   "outputs": [],
   "source": [
    "# We just text review column\n",
    "stem_df = PorterStemmer()"
   ]
  },
  {
   "cell_type": "code",
   "execution_count": 7,
   "metadata": {},
   "outputs": [],
   "source": [
    "def stemming_df(review):\n",
    "  review_bersih = (re.sub(\"(@[A-Za-z0-9]+)|([^0-9A-Za-z \\t])|(\\w+:\\/\\/\\S+)\",\" \",review).lower()).split()\n",
    "  review_bersih = [stem_df.stem(word) for word in review_bersih if not word in stopwords.words('english')]\n",
    "  review_bersih = ' '.join(review_bersih)\n",
    "  return review_bersih"
   ]
  },
  {
   "cell_type": "code",
   "execution_count": 8,
   "metadata": {},
   "outputs": [],
   "source": [
    "dr = df\n",
    "dr['review'] = dr['audience-reviews__review'].apply(stemming_df)"
   ]
  },
  {
   "cell_type": "code",
   "execution_count": 9,
   "metadata": {},
   "outputs": [
    {
     "data": {
      "text/plain": [
       "'seen star war desert zendaya beauti never buy attempt act rest em job well though new ground broken one ok watch'"
      ]
     },
     "execution_count": 9,
     "metadata": {},
     "output_type": "execute_result"
    }
   ],
   "source": [
    "dr['review'].iloc[1]"
   ]
  },
  {
   "cell_type": "markdown",
   "metadata": {},
   "source": [
    "## Splitting Dataset "
   ]
  },
  {
   "cell_type": "code",
   "execution_count": 10,
   "metadata": {},
   "outputs": [],
   "source": [
    "X = dr['review'].values\n",
    "y = dr['Sentiment'].values"
   ]
  },
  {
   "cell_type": "code",
   "execution_count": 12,
   "metadata": {},
   "outputs": [],
   "source": [
    "Xtrain,Xtest,ytrain,ytest = train_test_split(X,y,test_size=0.2,random_state=2)"
   ]
  },
  {
   "cell_type": "markdown",
   "metadata": {},
   "source": [
    "## Convert the text review to numerical values"
   ]
  },
  {
   "cell_type": "code",
   "execution_count": 13,
   "metadata": {},
   "outputs": [],
   "source": [
    "#Converting into numerical data\n",
    "vectorizer = TfidfVectorizer()\n",
    "Xtrain = vectorizer.fit_transform(Xtrain)\n",
    "Xtest = vectorizer.transform(Xtest)"
   ]
  },
  {
   "cell_type": "code",
   "execution_count": 14,
   "metadata": {},
   "outputs": [
    {
     "name": "stdout",
     "output_type": "stream",
     "text": [
      "  (0, 519)\t0.1486252548638906\n",
      "  (0, 1513)\t0.17049244489902232\n",
      "  (0, 2291)\t0.2601638907180995\n",
      "  (0, 1965)\t0.2475024982888377\n",
      "  (0, 274)\t0.18660781159600848\n",
      "  (0, 941)\t0.17753210772757216\n",
      "  (0, 1410)\t0.08302368475849554\n",
      "  (0, 454)\t0.17049244489902232\n",
      "  (0, 2176)\t0.37321562319201695\n",
      "  (0, 765)\t0.17753210772757216\n",
      "  (0, 2336)\t0.12100624149061341\n",
      "  (0, 633)\t0.07966039424603798\n",
      "  (0, 1651)\t0.18660781159600848\n",
      "  (0, 2050)\t0.13801033418600792\n",
      "  (0, 133)\t0.16474062156087677\n",
      "  (0, 739)\t0.14287343152574508\n",
      "  (0, 1545)\t0.19939929776270385\n",
      "  (0, 1751)\t0.17753210772757216\n",
      "  (0, 1512)\t0.14034826926769514\n",
      "  (0, 420)\t0.18660781159600848\n",
      "  (0, 1086)\t0.13008194535904974\n",
      "  (0, 1315)\t0.16474062156087677\n",
      "  (0, 2140)\t0.12837624960590022\n",
      "  (0, 1101)\t0.19939929776270385\n",
      "  (0, 50)\t0.10650905957076855\n",
      "  :\t:\n",
      "  (406, 263)\t0.1795432546612269\n",
      "  (406, 36)\t0.10953988717573049\n",
      "  (406, 229)\t0.09378296348660288\n",
      "  (406, 48)\t0.08871747012343034\n",
      "  (406, 621)\t0.1522388784875139\n",
      "  (406, 1105)\t0.1623466383312275\n",
      "  (406, 687)\t0.14822754233152446\n",
      "  (406, 2269)\t0.11059404438291359\n",
      "  (406, 2121)\t0.08222204192697948\n",
      "  (406, 799)\t0.10658270822692416\n",
      "  (406, 1783)\t0.10658270822692416\n",
      "  (406, 633)\t0.07585437126932001\n",
      "  (406, 341)\t0.08977162733061345\n",
      "  (406, 821)\t0.08871747012343034\n",
      "  (406, 2277)\t0.08623337808296891\n",
      "  (407, 2180)\t0.46068634367169026\n",
      "  (407, 1981)\t0.34214067142759463\n",
      "  (407, 917)\t0.25465714779266757\n",
      "  (407, 714)\t0.3279950766297918\n",
      "  (407, 2328)\t0.415620777630836\n",
      "  (407, 263)\t0.2636365225907142\n",
      "  (407, 1423)\t0.34214067142759463\n",
      "  (407, 633)\t0.22276506797742882\n",
      "  (407, 1324)\t0.16515433264485355\n",
      "  (407, 1177)\t0.24914153709234999\n"
     ]
    }
   ],
   "source": [
    "print(Xtrain)"
   ]
  },
  {
   "cell_type": "code",
   "execution_count": 15,
   "metadata": {},
   "outputs": [
    {
     "name": "stdout",
     "output_type": "stream",
     "text": [
      "  (0, 2286)\t0.20224104566705345\n",
      "  (0, 1965)\t0.24564767293699186\n",
      "  (0, 1803)\t0.19811059112043272\n",
      "  (0, 1423)\t0.2428639912839189\n",
      "  (0, 1408)\t0.3270120552673881\n",
      "  (0, 1364)\t0.27859295146273283\n",
      "  (0, 1335)\t0.2516162371407084\n",
      "  (0, 1324)\t0.23446519957186332\n",
      "  (0, 1209)\t0.2051542465512066\n",
      "  (0, 1185)\t0.3016208060316937\n",
      "  (0, 902)\t0.3016208060316937\n",
      "  (0, 739)\t0.28360542799744964\n",
      "  (0, 459)\t0.2655900499632055\n",
      "  (0, 36)\t0.22834798870301212\n",
      "  (0, 1)\t0.2655900499632055\n",
      "  (1, 2369)\t0.1509289004490776\n",
      "  (1, 2358)\t0.21652085129629656\n",
      "  (1, 2192)\t0.2832998804065977\n",
      "  (1, 1987)\t0.09847433273195447\n",
      "  (1, 1924)\t0.1565696211614256\n",
      "  (1, 1851)\t0.18985129465964504\n",
      "  (1, 1489)\t0.24319040793294808\n",
      "  (1, 1461)\t0.09758978717577456\n",
      "  (1, 1334)\t0.1565696211614256\n",
      "  (1, 1328)\t0.13651218138634197\n",
      "  :\t:\n",
      "  (98, 45)\t0.655821652008293\n",
      "  (99, 1989)\t1.0\n",
      "  (100, 2254)\t0.4285463139045196\n",
      "  (100, 2186)\t0.4285463139045196\n",
      "  (100, 1062)\t0.40105502227208095\n",
      "  (100, 813)\t0.3568667941084293\n",
      "  (100, 631)\t0.4285463139045196\n",
      "  (100, 599)\t0.40105502227208095\n",
      "  (101, 2349)\t0.3193821564832627\n",
      "  (101, 2298)\t0.17991663501534788\n",
      "  (101, 1967)\t0.2756987785746234\n",
      "  (101, 1924)\t0.25645307956892105\n",
      "  (101, 1803)\t0.19937369853223463\n",
      "  (101, 1461)\t0.159847109995237\n",
      "  (101, 1335)\t0.2532204842042535\n",
      "  (101, 1230)\t0.2179524940376112\n",
      "  (101, 1063)\t0.2532204842042535\n",
      "  (101, 917)\t0.18191749489832804\n",
      "  (101, 820)\t0.29690386211289277\n",
      "  (101, 813)\t0.16585372838697493\n",
      "  (101, 651)\t0.2320154006659841\n",
      "  (101, 462)\t0.34058724002153207\n",
      "  (101, 104)\t0.20353048790387626\n",
      "  (101, 95)\t0.29690386211289277\n",
      "  (101, 48)\t0.18612050487539902\n"
     ]
    }
   ],
   "source": [
    "print(Xtest)"
   ]
  },
  {
   "cell_type": "markdown",
   "metadata": {},
   "source": [
    "## Import the Naive Bayes model "
   ]
  },
  {
   "cell_type": "code",
   "execution_count": 21,
   "metadata": {},
   "outputs": [],
   "source": [
    "mnb = MultinomialNB()\n",
    "modelnb = mnb.fit(Xtrain,ytrain)\n",
    "ypred1 = modelnb.predict(Xtest)"
   ]
  },
  {
   "cell_type": "markdown",
   "metadata": {},
   "source": [
    "## Evaluate the model "
   ]
  },
  {
   "cell_type": "code",
   "execution_count": 52,
   "metadata": {},
   "outputs": [
    {
     "name": "stdout",
     "output_type": "stream",
     "text": [
      "Accuracy Score on the training data : 0.8088235294117647\n",
      "Accuracy Score on the test data : 0.7549019607843137\n",
      "Prediction speed [s]: 0.069\n"
     ]
    }
   ],
   "source": [
    "#timestep for measure speed in second \n",
    "start_ts = time.time()\n",
    "#Accuracy Score on The training data\n",
    "print('Accuracy Score on the training data :', accuracy_score(ytrain,modelnb.predict(Xtrain)))\n",
    "#Accuracy Score on the test data\n",
    "print('Accuracy Score on the test data :',accuracy_score(ytest,modelnb.predict(Xtest)))\n",
    "end_ts = time.time()\n",
    "# Print the speed of the prediction\n",
    "print(f\"Prediction speed [s]: {(end_ts-start_ts):.3f}\")"
   ]
  },
  {
   "cell_type": "markdown",
   "metadata": {},
   "source": [
    "## Save the model"
   ]
  },
  {
   "cell_type": "code",
   "execution_count": 26,
   "metadata": {},
   "outputs": [],
   "source": [
    "filename = 'trained_model_NLP_dune.sav'\n",
    "pickle.dump(modelnb,open(filename,'wb'))"
   ]
  },
  {
   "cell_type": "code",
   "execution_count": 42,
   "metadata": {},
   "outputs": [],
   "source": [
    "file = pickle.load(open(r'C:\\Users\\nenga\\NLP_SNA\\NLP_Test_NengahDharma_SNA\\trained_model_NLP_dune.sav','rb'))"
   ]
  },
  {
   "cell_type": "code",
   "execution_count": 43,
   "metadata": {},
   "outputs": [
    {
     "data": {
      "text/plain": [
       "'aw took three day watch entireti pain view piec garbag take origin day week'"
      ]
     },
     "execution_count": 43,
     "metadata": {},
     "output_type": "execute_result"
    }
   ],
   "source": [
    "X[100]"
   ]
  },
  {
   "cell_type": "code",
   "execution_count": 48,
   "metadata": {},
   "outputs": [
    {
     "name": "stdout",
     "output_type": "stream",
     "text": [
      "1\n",
      "[1]\n"
     ]
    }
   ],
   "source": [
    "print(ytest[12])\n",
    "pred = file.predict(Xtest[12])\n",
    "print(pred)"
   ]
  }
 ],
 "metadata": {
  "kernelspec": {
   "display_name": "Python 3",
   "language": "python",
   "name": "python3"
  },
  "language_info": {
   "codemirror_mode": {
    "name": "ipython",
    "version": 3
   },
   "file_extension": ".py",
   "mimetype": "text/x-python",
   "name": "python",
   "nbconvert_exporter": "python",
   "pygments_lexer": "ipython3",
   "version": "3.9.2"
  }
 },
 "nbformat": 4,
 "nbformat_minor": 2
}
