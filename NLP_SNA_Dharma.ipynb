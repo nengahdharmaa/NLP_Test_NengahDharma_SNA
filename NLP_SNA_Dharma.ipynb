{
 "cells": [
  {
   "cell_type": "markdown",
   "metadata": {},
   "source": [
    "## Sentiment Analysis on newly released movie \n",
    "By I Nengah Dharma Pradnyandita "
   ]
  },
  {
   "cell_type": "markdown",
   "metadata": {},
   "source": [
    "Import Library"
   ]
  },
  {
   "cell_type": "code",
   "execution_count": 3,
   "metadata": {},
   "outputs": [],
   "source": [
    "import pandas as pd\n",
    "import numpy as np \n",
    "import matplotlib.pyplot as plt\n",
    "import re\n",
    "from textblob import TextBlob"
   ]
  },
  {
   "cell_type": "markdown",
   "metadata": {},
   "source": [
    "Import Dataset"
   ]
  },
  {
   "cell_type": "code",
   "execution_count": null,
   "metadata": {},
   "outputs": [],
   "source": [
    "df= pd.read_csv('movie_review.csv')"
   ]
  },
  {
   "cell_type": "markdown",
   "metadata": {},
   "source": [
    "Data Preprocessing "
   ]
  },
  {
   "cell_type": "code",
   "execution_count": null,
   "metadata": {},
   "outputs": [],
   "source": [
    "columns = ['reviewerID','reviewerName','reviewText','sentiment']\n",
    "review_properties = []\n",
    "for index,review in df.iterrows() :\n",
    "  properties =[]\n",
    "  properties.append(review['reviewerID'])\n",
    "  properties.append(review['reviewerName'])\n",
    "  review_bersih = ' '.join(re.sub(\"(@[A-Za-z0-9]+)|([^0-9A-Za-z \\t])|(\\w+:\\/\\/\\S+)\",\" \",review['reviewText']).split())\n",
    "  properties.append(review_bersih)\n",
    "  review_properties.append(properties)\n",
    "  analisis = TextBlob(review_bersih)\n",
    "  if analisis.sentiment.polarity >0.0:\n",
    "    properties.append(\"positif\")\n",
    "  elif analisis.sentiment.polarity ==0.0:\n",
    "    properties.append(\"netral\")\n",
    "  else:\n",
    "    properties.append(\"negatif\")\n",
    "    # print(tweet_properties)\n",
    "dr = pd.DataFrame(data=review_properties,columns = columns)"
   ]
  },
  {
   "cell_type": "code",
   "execution_count": null,
   "metadata": {},
   "outputs": [],
   "source": []
  }
 ],
 "metadata": {
  "kernelspec": {
   "display_name": "Python 3",
   "language": "python",
   "name": "python3"
  },
  "language_info": {
   "codemirror_mode": {
    "name": "ipython",
    "version": 3
   },
   "file_extension": ".py",
   "mimetype": "text/x-python",
   "name": "python",
   "nbconvert_exporter": "python",
   "pygments_lexer": "ipython3",
   "version": "3.9.2"
  }
 },
 "nbformat": 4,
 "nbformat_minor": 2
}
